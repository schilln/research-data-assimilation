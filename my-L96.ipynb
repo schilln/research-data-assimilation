{
 "cells": [
  {
   "cell_type": "code",
   "execution_count": null,
   "metadata": {},
   "outputs": [],
   "source": [
    "from importlib import reload\n",
    "\n",
    "import numpy as np\n",
    "from matplotlib import pyplot as plt\n",
    "from scipy.integrate import solve_ivp\n",
    "\n",
    "import L96\n",
    "reload(L96)"
   ]
  },
  {
   "cell_type": "markdown",
   "metadata": {},
   "source": [
    "Josh's paper assumes the two parameters to be estimated are\n",
    "\n",
    "$$\n",
    "\\gamma_1 = \\gamma_{i, j} = \\gamma_i \\quad \\text{for all } i, j\\\\\n",
    "\\gamma_2 = \\bar d_i \\quad \\text{for all } i\n",
    "$$\n",
    "\n",
    "The first parameter $\\gamma_1$ corresponds to `γs` and `γs2` which are all identical.\n",
    "\n",
    "The second parameter $\\gamma_2$ corresponds to `ds` which are all identical.\n",
    "\n",
    "Thus the sensitivities in Josh's paper correspond to these two parameters, and the following code will reflect this.\n",
    "That is, while the preceding `ode` code is general to the Lorenz '96 system, the following is not."
   ]
  },
  {
   "cell_type": "code",
   "execution_count": null,
   "metadata": {},
   "outputs": [],
   "source": [
    "# Dimensions\n",
    "I, J = 10, 3\n",
    "J_sim = J - 2\n",
    "\n",
    "# System evolution parameters\n",
    "tlim = t0, tf = 0, 2\n",
    "tn = 100\n",
    "tls = np.linspace(*tlim, tn)\n",
    "\n",
    "# True system parameters\n",
    "ds = np.full(I, 1)\n",
    "γs = np.full((I, J), 1)\n",
    "ds2 = np.full((I, J), 1)\n",
    "γs2 = np.full(I, 1)\n",
    "F = -1\n",
    "\n",
    "# Nudging parameter and simulated system parameters\n",
    "μ = 10\n",
    "γs_sim = np.full((I, J_sim), 1)\n",
    "ds2_sim = np.full((I, J_sim), 1)\n",
    "\n",
    "# Initial true state\n",
    "U0 = np.full(I, 1)\n",
    "V0 = np.full((I, J), 2)\n",
    "state0 = L96.together(U0, V0)\n",
    "\n",
    "# Initial simulation state\n",
    "U0_sim = U0 + 1\n",
    "V0_sim = np.full((I, J_sim), 2)\n",
    "state0_sim = L96.together(U0_sim, V0_sim)\n",
    "\n",
    "# Evolve true and simulated systems\n",
    "sol = solve_ivp(\n",
    "    L96.ode,\n",
    "    tlim,\n",
    "    state0,\n",
    "    args=(I, J, ds, γs, ds2, γs2, F),\n",
    "    t_eval=tls,\n",
    "    dense_output=True,\n",
    ")\n",
    "\n",
    "sim = solve_ivp(\n",
    "    L96.ode,\n",
    "    tlim,\n",
    "    state0_sim,\n",
    "    args=(I, J_sim, ds, γs_sim, ds2_sim, γs2, F, μ, sol.sol, J),\n",
    "    t_eval=tls,\n",
    ")\n",
    "\n",
    "# Unpack true and simulated states\n",
    "states = sol.y\n",
    "Us, Vs = zip(*(L96.apart(state, I, J) for state in states.T))\n",
    "Us, Vs = np.stack(Us), np.stack(Vs)\n",
    "\n",
    "states_sim = sim.y\n",
    "Us_sim, Vs_sim = zip(*(L96.apart(state, I, J_sim) for state in states_sim.T))\n",
    "Us_sim, Vs_sim = np.stack(Us_sim), np.stack(Vs_sim)\n",
    "\n",
    "# TODO: Perform gradient descent update, then simulate again with new\n",
    "# parameters."
   ]
  },
  {
   "cell_type": "code",
   "execution_count": null,
   "metadata": {},
   "outputs": [],
   "source": [
    "fig, ax = plt.subplots(1, 1)\n",
    "\n",
    "ax.plot(sol.t, Us.T[0], label=\"true\", color=\"blue\")\n",
    "ax.plot(sim.t, Us_sim.T[0], label=\"sim\", color=\"red\", linestyle=\"--\")\n",
    "\n",
    "ax.legend()\n",
    "plt.show()"
   ]
  }
 ],
 "metadata": {
  "kernelspec": {
   "display_name": ".venv",
   "language": "python",
   "name": "python3"
  },
  "language_info": {
   "codemirror_mode": {
    "name": "ipython",
    "version": 3
   },
   "file_extension": ".py",
   "mimetype": "text/x-python",
   "name": "python",
   "nbconvert_exporter": "python",
   "pygments_lexer": "ipython3"
  }
 },
 "nbformat": 4,
 "nbformat_minor": 2
}
