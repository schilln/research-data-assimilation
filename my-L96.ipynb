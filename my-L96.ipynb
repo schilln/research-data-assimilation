{
 "cells": [
  {
   "cell_type": "code",
   "execution_count": null,
   "metadata": {},
   "outputs": [],
   "source": [
    "from importlib import reload\n",
    "\n",
    "import numpy as np\n",
    "from matplotlib import pyplot as plt\n",
    "\n",
    "import L96\n",
    "import relax_punch\n",
    "\n",
    "reload(L96)\n",
    "reload(relax_punch)\n",
    "\n",
    "ndarray = np.ndarray"
   ]
  },
  {
   "cell_type": "code",
   "execution_count": null,
   "metadata": {},
   "outputs": [],
   "source": [
    "# Dimensions\n",
    "I, J = 10, 3\n",
    "J_sim = J - 2\n",
    "\n",
    "# System evolution parameters\n",
    "Δt = 5\n",
    "γ1, γ2 = 1, 1\n",
    "c1, c2 = 1, 1\n",
    "ds2 = np.full(J, 1)\n",
    "F = -1\n",
    "μ = 10\n",
    "\n",
    "rp = relax_punch.RelaxPunch(I, J, J_sim, Δt, γ1, γ2, ds2, c1, c2, F, μ)\n",
    "\n",
    "# Initial true state\n",
    "U0 = np.full(I, 1)\n",
    "V0 = np.full((I, J), 2)\n",
    "\n",
    "# Initial simulation state\n",
    "U0_sim = U0 + 1\n",
    "V0_sim = np.full((I, J_sim), 2)\n",
    "\n",
    "sol, sim = rp._evolve(0, Δt, U0, V0, U0_sim, V0_sim)\n",
    "\n",
    "tn = 100\n",
    "tls = np.linspace(0, Δt, tn)\n",
    "\n",
    "# Unpack true and simulated states\n",
    "states = sol.sol(tls)\n",
    "Us, Vs = zip(*(L96.apart(state, I, J) for state in states.T))\n",
    "Us, Vs = np.stack(Us), np.stack(Vs)\n",
    "\n",
    "states_sim = sim.sol(tls)\n",
    "Us_sim, Vs_sim = zip(*(L96.apart(state, I, J_sim) for state in states_sim.T))\n",
    "Us_sim, Vs_sim = np.stack(Us_sim), np.stack(Vs_sim)"
   ]
  },
  {
   "cell_type": "code",
   "execution_count": null,
   "metadata": {},
   "outputs": [],
   "source": [
    "fig, ax = plt.subplots(1, 1)\n",
    "\n",
    "ax.plot(tls, Us.T[0], label=\"true\", color=\"blue\")\n",
    "ax.plot(tls, Us_sim.T[0], label=\"sim\", color=\"red\", linestyle=\"--\")\n",
    "\n",
    "ax.legend()\n",
    "plt.show()"
   ]
  },
  {
   "cell_type": "code",
   "execution_count": null,
   "metadata": {},
   "outputs": [],
   "source": [
    "# TODO: Perform gradient descent update, then simulate again with new\n",
    "# parameters.\n",
    "\n",
    "# Learning Parameters\n",
    "g = np.array([1e-2,0.5]) # True\n",
    "paramErr = np.abs(np.random.randn(2)*1e-1)\n",
    "c_init = 2*g  # Approximate\n",
    "# Fixed Parameters\n",
    "d = np.array([0.2,0.5,1,2,5]) #dissipation coefficients for the v_{k,j}\n",
    "F=8. #forcing constant\n",
    "mu=50."
   ]
  }
 ],
 "metadata": {
  "kernelspec": {
   "display_name": ".venv",
   "language": "python",
   "name": "python3"
  },
  "language_info": {
   "codemirror_mode": {
    "name": "ipython",
    "version": 3
   },
   "file_extension": ".py",
   "mimetype": "text/x-python",
   "name": "python",
   "nbconvert_exporter": "python",
   "pygments_lexer": "ipython3"
  }
 },
 "nbformat": 4,
 "nbformat_minor": 2
}
