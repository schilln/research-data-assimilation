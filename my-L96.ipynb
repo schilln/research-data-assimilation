{
 "cells": [
  {
   "cell_type": "code",
   "execution_count": null,
   "metadata": {},
   "outputs": [],
   "source": [
    "from importlib import reload\n",
    "\n",
    "import numpy as np\n",
    "from matplotlib import pyplot as plt\n",
    "\n",
    "import L96\n",
    "import relax_punch\n",
    "\n",
    "reload(L96)\n",
    "reload(relax_punch)\n",
    "\n",
    "ndarray = np.ndarray"
   ]
  },
  {
   "cell_type": "markdown",
   "metadata": {},
   "source": [
    "# Try with correct parameters"
   ]
  },
  {
   "cell_type": "code",
   "execution_count": null,
   "metadata": {},
   "outputs": [],
   "source": [
    "# Dimensions\n",
    "I, J = 40, 5\n",
    "J_sim = J\n",
    "\n",
    "# System evolution parameters\n",
    "Δt = 5\n",
    "γ1, γ2 = 1e-2, 0.5\n",
    "c1, c2 = γ1, γ2\n",
    "ds2 = np.array([0.2, 0.5, 1, 2, 5])\n",
    "F = 8\n",
    "μ = 50\n",
    "\n",
    "rp = relax_punch.RelaxPunch(I, J, J_sim, γ1, γ2, ds2, c1, c2, F, μ)\n",
    "\n",
    "# Initial true state\n",
    "U0 = np.sin(2 * np.pi * np.linspace(0, 1, I, endpoint=False))\n",
    "V0 = np.full((I, J), 0)\n",
    "\n",
    "# Initial simulation state\n",
    "U0_sim = np.zeros_like(U0)\n",
    "V0_sim = np.zeros_like(V0)\n",
    "\n",
    "num_iters = 100\n",
    "learning_rate = 5e-2\n",
    "\n",
    "rp.iterate(Δt, num_iters, learning_rate, U0, V0, U0_sim, V0_sim)"
   ]
  },
  {
   "cell_type": "code",
   "execution_count": null,
   "metadata": {},
   "outputs": [],
   "source": [
    "tn = 500\n",
    "tls = np.linspace(0, 30, tn)\n",
    "\n",
    "states = rp.sol(tls)\n",
    "Us, Vs = zip(*(L96.apart(state, I, J) for state in states.T))\n",
    "Us, Vs = np.stack(Us), np.stack(Vs)\n",
    "\n",
    "states_sim = rp.sim(tls)\n",
    "Us_sim, Vs_sim = zip(*(L96.apart(state, I, J_sim) for state in states_sim.T))\n",
    "Us_sim, Vs_sim = np.stack(Us_sim), np.stack(Vs_sim)\n",
    "\n",
    "fig, ax = plt.subplots(1, 1)\n",
    "\n",
    "ax.plot(tls, Us.T[0], label=\"true\", color=\"blue\")\n",
    "ax.plot(tls, Us_sim.T[0], label=\"sim\", color=\"red\", linestyle=\"--\")\n",
    "\n",
    "ax.legend()\n",
    "plt.show()"
   ]
  },
  {
   "cell_type": "code",
   "execution_count": null,
   "metadata": {},
   "outputs": [],
   "source": [
    "fig, axs = plt.subplots(1, 2)\n",
    "\n",
    "ax = axs[0]\n",
    "ax.plot(np.full_like(rp.c1s, γ1), label=\"true\")\n",
    "ax.plot(rp.c1s, label=\"estimated\")\n",
    "\n",
    "ax = axs[1]\n",
    "ax.plot(np.full_like(rp.c2s, γ2))\n",
    "ax.plot(rp.c2s)\n",
    "\n",
    "fig.legend()\n",
    "plt.show()"
   ]
  },
  {
   "cell_type": "markdown",
   "metadata": {},
   "source": [
    "# Try updating parameters"
   ]
  },
  {
   "cell_type": "code",
   "execution_count": null,
   "metadata": {},
   "outputs": [],
   "source": [
    "# TODO: Test convergence on large system with right parameters and no parameter\n",
    "# update. i.e. make sure nudging work\n",
    "# TODO: Test updating one parameter at a time\n",
    "# TODO: Test longer intervals before parameter updates\n",
    "\n",
    "# Dimensions\n",
    "I, J = 40, 5\n",
    "J_sim = J\n",
    "\n",
    "# System evolution parameters\n",
    "Δt = 5\n",
    "γ1, γ2 = 1e-2, 0.5\n",
    "c1, c2 = γ1 / 2, γ2 / 2\n",
    "ds2 = np.array([0.2, 0.5, 1, 2, 5])\n",
    "F = 8\n",
    "μ = 50\n",
    "\n",
    "rp = relax_punch.RelaxPunch(I, J, J_sim, γ1, γ2, ds2, c1, c2, F, μ)\n",
    "\n",
    "# Initial true state\n",
    "U0 = np.sin(2 * np.pi * np.linspace(0, 1, I, endpoint=False))\n",
    "V0 = np.full((I, J), 0)\n",
    "\n",
    "# Initial simulation state\n",
    "U0_sim = np.zeros_like(U0)\n",
    "V0_sim = np.zeros_like(V0)\n",
    "\n",
    "num_iters = 100\n",
    "learning_rate = 5e-2\n",
    "\n",
    "rp.iterate(Δt, num_iters, learning_rate, U0, V0, U0_sim, V0_sim)"
   ]
  },
  {
   "cell_type": "code",
   "execution_count": null,
   "metadata": {},
   "outputs": [],
   "source": [
    "tn = 500\n",
    "# tls = np.linspace(0, Δt * num_iters, tn)\n",
    "tls = np.linspace(0, 30, tn)\n",
    "\n",
    "states = rp.sol(tls)\n",
    "Us, Vs = zip(*(L96.apart(state, I, J) for state in states.T))\n",
    "Us, Vs = np.stack(Us), np.stack(Vs)\n",
    "\n",
    "states_sim = rp.sim(tls)\n",
    "Us_sim, Vs_sim = zip(*(L96.apart(state, I, J_sim) for state in states_sim.T))\n",
    "Us_sim, Vs_sim = np.stack(Us_sim), np.stack(Vs_sim)\n",
    "\n",
    "fig, ax = plt.subplots(1, 1)\n",
    "\n",
    "ax.plot(tls, Us.T[0], label=\"true\", color=\"blue\")\n",
    "ax.plot(tls, Us_sim.T[0], label=\"sim\", color=\"red\", linestyle=\"--\")\n",
    "\n",
    "ax.legend()\n",
    "plt.show()"
   ]
  },
  {
   "cell_type": "code",
   "execution_count": null,
   "metadata": {},
   "outputs": [],
   "source": [
    "fig, axs = plt.subplots(1, 2)\n",
    "\n",
    "ax = axs[0]\n",
    "ax.plot(np.full_like(rp.c1s, γ1), label=\"true\")\n",
    "ax.plot(rp.c1s, label=\"estimated\")\n",
    "\n",
    "ax = axs[1]\n",
    "ax.plot(np.full_like(rp.c2s, γ2))\n",
    "ax.plot(rp.c2s)\n",
    "\n",
    "fig.legend()\n",
    "plt.show()"
   ]
  }
 ],
 "metadata": {
  "kernelspec": {
   "display_name": ".venv",
   "language": "python",
   "name": "python3"
  },
  "language_info": {
   "codemirror_mode": {
    "name": "ipython",
    "version": 3
   },
   "file_extension": ".py",
   "mimetype": "text/x-python",
   "name": "python",
   "nbconvert_exporter": "python",
   "pygments_lexer": "ipython3"
  }
 },
 "nbformat": 4,
 "nbformat_minor": 2
}
